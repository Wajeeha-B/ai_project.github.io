{
 "cells": [
  {
   "cell_type": "markdown",
   "metadata": {},
   "source": [
    "Execution for house price estimation"
   ]
  },
  {
   "cell_type": "code",
   "execution_count": 1,
   "metadata": {},
   "outputs": [],
   "source": [
    "# Import relevant files and libraries\n",
    "import DataProcessor\n",
    "import sys\n",
    "import kmeans\n",
    "import LRegression\n",
    "import NLRegression\n",
    "import performance_metrics"
   ]
  },
  {
   "cell_type": "markdown",
   "metadata": {},
   "source": [
    "Define the parameters"
   ]
  },
  {
   "cell_type": "code",
   "execution_count": null,
   "metadata": {},
   "outputs": [],
   "source": [
    "# Allocate 80% of data to training\n",
    "train_size = 0.8\n",
    "\n",
    "# Identify features to be used\n",
    "columnsToKeep = ['Price','Type','Bedroom','Bathroom','Car','Landsize','BuildingArea','Latitude','Longitude']\n",
    "\n",
    "# Path to dataset\n",
    "filepath = 'dataset/Melbourne_housing_FULL.csv'\n",
    "\n",
    "# Identify prediction (ground truth)\n",
    "prediction_column = 'Price'"
   ]
  },
  {
   "cell_type": "markdown",
   "metadata": {},
   "source": [
    "Process raw data"
   ]
  },
  {
   "cell_type": "code",
   "execution_count": null,
   "metadata": {},
   "outputs": [],
   "source": [
    "# Create a DataProcessor object and load the data\n",
    "dp_obj = DataProcessor.DataProcessor()\n",
    "dp_obj.LoadData(filepath)\n",
    "\n",
    "# Remove incomplete points, remove unused features and shuffle the data\n",
    "dp_obj.filterData()\n",
    "dp_obj.keepSelectedColumns(columnsToKeep)\n",
    "dp_obj.shuffleData()\n",
    "\n",
    "# Split the data into training and testing\n",
    "train_X, train_Y, test_X, test_Y = dp_obj.splitData(train_size, prediction_column)"
   ]
  },
  {
   "cell_type": "markdown",
   "metadata": {},
   "source": [
    "K-Means Clustering"
   ]
  },
  {
   "cell_type": "code",
   "execution_count": null,
   "metadata": {},
   "outputs": [],
   "source": [
    "# Ashton"
   ]
  },
  {
   "cell_type": "markdown",
   "metadata": {},
   "source": [
    "Linear Regression"
   ]
  },
  {
   "cell_type": "code",
   "execution_count": null,
   "metadata": {},
   "outputs": [],
   "source": [
    "# Train\n",
    "lr = LRegression.LRegression()\n",
    "y_pred = lr.LinReg(features=train_X,target=train_Y,assignment=assignment)"
   ]
  },
  {
   "cell_type": "code",
   "execution_count": null,
   "metadata": {},
   "outputs": [],
   "source": [
    "# Test\n"
   ]
  },
  {
   "cell_type": "markdown",
   "metadata": {},
   "source": [
    "Non-Linear Regression (Gaussian Processing)"
   ]
  },
  {
   "cell_type": "code",
   "execution_count": null,
   "metadata": {},
   "outputs": [],
   "source": [
    "# Train"
   ]
  },
  {
   "cell_type": "code",
   "execution_count": null,
   "metadata": {},
   "outputs": [],
   "source": [
    "# Test"
   ]
  },
  {
   "cell_type": "markdown",
   "metadata": {},
   "source": [
    "Evaluation Metrics"
   ]
  },
  {
   "cell_type": "code",
   "execution_count": null,
   "metadata": {},
   "outputs": [],
   "source": [
    "# Wajeeha"
   ]
  },
  {
   "cell_type": "markdown",
   "metadata": {},
   "source": [
    "Final prediction"
   ]
  },
  {
   "cell_type": "code",
   "execution_count": null,
   "metadata": {},
   "outputs": [],
   "source": [
    "# Return predicted value from best performing model\n",
    "type = 'h'\n",
    "bedrooms = 2\n",
    "bathrooms = 1\n",
    "car = 1\n",
    "size = 1000\n",
    "latitude = 1\n",
    "longitude = 1\n",
    "targets = [type,bedrooms,bathrooms,car,size,latitude,longitude]\n",
    "pred = lr.predict(features=targets)"
   ]
  }
 ],
 "metadata": {
  "kernelspec": {
   "display_name": "groupEnv",
   "language": "python",
   "name": "python3"
  },
  "language_info": {
   "codemirror_mode": {
    "name": "ipython",
    "version": 3
   },
   "file_extension": ".py",
   "mimetype": "text/x-python",
   "name": "python",
   "nbconvert_exporter": "python",
   "pygments_lexer": "ipython3",
   "version": "3.9.19"
  }
 },
 "nbformat": 4,
 "nbformat_minor": 2
}
