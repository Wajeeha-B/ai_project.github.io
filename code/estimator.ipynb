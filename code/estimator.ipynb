{
 "cells": [
  {
   "cell_type": "markdown",
   "metadata": {},
   "source": [
    "Execution for house price estimation"
   ]
  },
  {
   "cell_type": "code",
   "execution_count": null,
   "metadata": {},
   "outputs": [],
   "source": [
    "# Import relevant files and libraries\n",
    "import DataProcessor\n",
    "import sys\n",
    "import LRegression\n",
    "import NLRegression\n",
    "import performance_metrics\n",
    "import kmeans\n",
    "import UserInterface"
   ]
  },
  {
   "cell_type": "markdown",
   "metadata": {},
   "source": [
    "Define the parameters\n",
    "\n"
   ]
  },
  {
   "cell_type": "code",
   "execution_count": null,
   "metadata": {},
   "outputs": [],
   "source": [
    "# Allocate 80% of data to training\n",
    "train_size = 0.8\n",
    "\n",
    "# Identify features to be used\n",
    "columnsToKeep = ['Price','Type','Bedroom','Bathroom','Car','Landsize','BuildingArea','Latitude','Longitude']\n",
    "#columnsToKeep = ['Price', 'Bedroom', 'Bathroom']\n",
    "#columnsToKeep = ['Price', 'Type', 'Landsize', 'BuildingArea']\n",
    "\n",
    "# Path to dataset.\n",
    "filepath = '../dataset/Melbourne_housing_FULL.csv'\n",
    "\n",
    "# Identify prediction (ground truth)\n",
    "prediction_column = 'Price'"
   ]
  },
  {
   "cell_type": "markdown",
   "metadata": {},
   "source": [
    "Process raw data"
   ]
  },
  {
   "cell_type": "code",
   "execution_count": null,
   "metadata": {},
   "outputs": [],
   "source": [
    "# Create a DataProcessor object and load the data\n",
    "dp_obj = DataProcessor.DataProcessor()\n",
    "dp_obj.LoadData(filepath)\n",
    "\n",
    "# Remove incomplete points, remove unused features and shuffle the data\n",
    "dp_obj.keepSelectedColumns(columnsToKeep)\n",
    "dp_obj.filterData()\n",
    "\n",
    "dp_obj.remove_outliers(columnsToKeep, plot=True)\n",
    "\n",
    "# dp_obj.encodeCategoricalData(['Type'])\n",
    "dp_obj.shuffleData()\n",
    "dp_obj.reduceDataSize(2000) # remove this to train on the full dataset\n",
    "\n",
    "# Split the data into training and testing\n",
    "train_X, train_Y, test_X, test_Y = dp_obj.splitData(train_size, prediction_column)\n",
    "\n",
    "# print(train_X.head())\n",
    "\n",
    "# Remove dwelling type and additional landsize / building area data for some processing\n",
    "clean_columns = ['Type', 'Landsize','BuildingArea']\n",
    "train_X_clean = train_X.drop(columns=clean_columns,axis=1)\n",
    "test_X_clean = test_X.drop(columns=clean_columns,axis=1)"
   ]
  },
  {
   "cell_type": "markdown",
   "metadata": {},
   "source": [
    "K-Means Clustering"
   ]
  },
  {
   "cell_type": "code",
   "execution_count": null,
   "metadata": {},
   "outputs": [],
   "source": [
    "# Ashton\n",
    "k = 5\n",
    "pref = 'Size'\n",
    "kmeans = Kmeans.Kmeans(train_X, train_Y, k, pref)\n",
    "\n",
    "train_X, points, centroids = kmeans.cluster()\n",
    "\n",
    "#plotKmean(train_X, points, centroids) "
   ]
  },
  {
   "cell_type": "markdown",
   "metadata": {},
   "source": [
    "Linear Regression"
   ]
  },
  {
   "cell_type": "code",
   "execution_count": null,
   "metadata": {},
   "outputs": [],
   "source": [
    "# TEMPORARY\n",
    "k = 5\n",
    "pref = 'Size'\n",
    "km = kmeans.Kmeans(train_X_clean,train_Y,k,pref)\n",
    "\n",
    "train_X, points, centroids = km.cluster()\n",
    "print(train_X['Assignment'].shape)"
   ]
  },
  {
   "cell_type": "code",
   "execution_count": null,
   "metadata": {},
   "outputs": [],
   "source": [
    "lr = LRegression.LRegression()\n",
    "for i in range(k):\n",
    "    features = train_X[train_X['Assignment'] == i]\n",
    "    features = features.drop('Assignment',axis=1)\n",
    "    targets = train_Y[train_X['Assignment'] == i]\n",
    "    y_pred = lr.LinearRegression(features=features,target=targets)\n",
    "    print(y_pred)"
   ]
  },
  {
   "cell_type": "code",
   "execution_count": null,
   "metadata": {},
   "outputs": [],
   "source": [
    "lr = LRegression.LRegression()\n",
    "assignments = train_X['Assignment']\n",
    "# features = train_X.drop('Assignment',axis=1)\n",
    "features = train_X\n",
    "models = lr.LinearReg(assignments,features,train_Y)"
   ]
  },
  {
   "cell_type": "code",
   "execution_count": null,
   "metadata": {},
   "outputs": [],
   "source": [
    "# Train\n",
    "lr = LRegression.LRegression()\n",
    "y_pred = []\n",
    "# for i in range(k):\n",
    "#     y_pred.append(lr.LinReg(features=train_X,target=train_Y,assignment=i))\n",
    "y_pred = lr.LinReg(features=train_X,target=train_Y,assignment=train_X['Assignment'])"
   ]
  },
  {
   "cell_type": "code",
   "execution_count": null,
   "metadata": {},
   "outputs": [],
   "source": [
    "# Test\n"
   ]
  },
  {
   "cell_type": "markdown",
   "metadata": {},
   "source": [
    "Non-Linear Regression (Gaussian Processing)"
   ]
  },
  {
   "cell_type": "code",
   "execution_count": null,
   "metadata": {},
   "outputs": [],
   "source": [
    "# Train\n",
    "\n",
    "# options: 'Type','Bedroom','Bathroom','Car','Size','Latitude','Longitude'\n",
    "featuresToTrain = ['Size', 'Latitude', 'Longitude']\n",
    "\n",
    "nlr = NLRegression.NLRegression(train_X, train_Y, test_X, test_Y, featuresToTrain)\n",
    "nlr.train()"
   ]
  },
  {
   "cell_type": "code",
   "execution_count": null,
   "metadata": {},
   "outputs": [],
   "source": [
    "# plotting predictions vs expected\n",
    "nlr.plot()"
   ]
  },
  {
   "cell_type": "code",
   "execution_count": null,
   "metadata": {},
   "outputs": [],
   "source": [
    "# Quick Test\n",
    "nlr.evaluate()"
   ]
  },
  {
   "cell_type": "code",
   "execution_count": null,
   "metadata": {},
   "outputs": [],
   "source": [
    "# slow but more accurate test\n",
    "nlr.cross_validate()"
   ]
  },
  {
   "cell_type": "markdown",
   "metadata": {},
   "source": [
    "Evaluation Metrics"
   ]
  },
  {
   "cell_type": "code",
   "execution_count": null,
   "metadata": {},
   "outputs": [],
   "source": [
    "# Wajeeha"
   ]
  },
  {
   "cell_type": "markdown",
   "metadata": {},
   "source": [
    "User input for preference"
   ]
  },
  {
   "cell_type": "code",
   "execution_count": null,
   "metadata": {},
   "outputs": [],
   "source": [
    "# Calculate mean values if no user preference is provided\n",
    "meanLand = dp_obj.getAverage('Landsize')\n",
    "meanBuilding = dp_obj.getAverage('BuildingArea')\n",
    "\n",
    "# Input user preferences\n",
    "user_pref = UserInterface.UserInterface()\n",
    "type, bedrooms, bathrooms, car, size, latitude, longitude = user_pref.Inputs(meanLand, meanBuilding)\n",
    "print(type,bedrooms,bathrooms,car,size,latitude,longitude)"
   ]
  },
  {
   "cell_type": "markdown",
   "metadata": {},
   "source": [
    "Final prediction"
   ]
  },
  {
   "cell_type": "code",
   "execution_count": null,
   "metadata": {},
   "outputs": [],
   "source": [
    "# Return predicted value from best performing model\n",
    "targets = [type,bedrooms,bathrooms,car,size,latitude,longitude]\n",
    "pred = lr.predict(features=targets)"
   ]
  }
 ],
 "metadata": {
  "kernelspec": {
   "display_name": "groupEnv",
   "language": "python",
   "name": "python3"
  },
  "language_info": {
   "codemirror_mode": {
    "name": "ipython",
    "version": 3
   },
   "file_extension": ".py",
   "mimetype": "text/x-python",
   "name": "python",
   "nbconvert_exporter": "python",
   "pygments_lexer": "ipython3",
   "version": "3.8.19"
  }
 },
 "nbformat": 4,
 "nbformat_minor": 2
}
